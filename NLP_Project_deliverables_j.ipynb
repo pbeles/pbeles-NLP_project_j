{
 "cells": [],
 "metadata": {
  "kernelspec": {
   "display_name": "tf_env",
   "language": "python",
   "name": "python3"
  },
  "language_info": {
   "name": "python",
   "version": "3.10.8"
  }
 },
 "nbformat": 4,
 "nbformat_minor": 2
}
